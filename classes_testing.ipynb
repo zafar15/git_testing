{
 "cells": [
  {
   "cell_type": "code",
   "execution_count": 7,
   "metadata": {},
   "outputs": [
    {
     "name": "stdout",
     "output_type": "stream",
     "text": [
      "Child Constructor called\n",
      "Parent Constructor called\n",
      "Last Name -- Cyrus\n",
      "Eye Color -- Blue\n",
      "Number of Toys -- 5\n"
     ]
    }
   ],
   "source": [
    "## Class inheritance\n",
    "class Parent():\n",
    "    def __init__(self, last_name, eye_color) -> None:\n",
    "        print(\"Parent Constructor called\")\n",
    "        self.last_name = last_name\n",
    "        self.eye_color = eye_color\n",
    "    \n",
    "    def show_info(self):\n",
    "        print(\"Last Name -- \"+ self.last_name)\n",
    "        print(\"Eye Color -- \"+ self.eye_color)\n",
    "\n",
    "class Child(Parent):\n",
    "    def __init__(self, last_name, eye_color, number_of_toys) -> None:\n",
    "        print(\"Child Constructor called\")\n",
    "        Parent.__init__(self, last_name, eye_color)\n",
    "        self.number_of_toys = number_of_toys\n",
    "    \n",
    "    def show_info(self):\n",
    "        print(\"Last Name -- \"+ self.last_name)\n",
    "        print(\"Eye Color -- \"+ self.eye_color)\n",
    "        print(\"Number of Toys -- \"+str(self.number_of_toys))\n",
    "        \n",
    "\n",
    "# billy_cyrus = Parent(\"Cyrus\", \"Blue\")\n",
    "# print(billy_cyrus.last_name)\n",
    "# print(billy_cyrus.eye_color)\n",
    "# billy_cyrus.show_info()\n",
    "\n",
    "miley_cyrus = Child(\"Cyrus\", \"Blue\", 5)\n",
    "# print(miley_cyrus.last_name)\n",
    "# print(miley_cyrus.eye_color)\n",
    "# print(miley_cyrus.number_of_toys)\n",
    "miley_cyrus.show_info()"
   ]
  },
  {
   "cell_type": "code",
   "execution_count": 8,
   "metadata": {},
   "outputs": [
    {
     "name": "stdout",
     "output_type": "stream",
     "text": [
      "Child Constructor called\n",
      "Cyrus\n",
      "Black\n",
      "5\n",
      "Last Name -- Cyrus\n",
      "Eye Color -- Black\n",
      "Number of Toys -- 5\n"
     ]
    }
   ],
   "source": [
    "## Class inheritance\n",
    "class Parent1():\n",
    "    def __init__(self, last_name: str, eye_color: str) -> None:\n",
    "        print(\"Parent Constructor called\")\n",
    "        self.last_name = last_name\n",
    "        self.eye_color = eye_color\n",
    "    \n",
    "    def show_info(self):\n",
    "        print(\"Last Name -- \"+ self.last_name)\n",
    "        print(\"Eye Color -- \"+ self.eye_color)\n",
    "\n",
    "class Child1(Parent):\n",
    "    def __init__(self, last_name: str, eye_color: str, number_of_toys: int) -> None:\n",
    "        print(\"Child Constructor called\")\n",
    "        self.number_of_toys = number_of_toys\n",
    "        self.last_name = last_name\n",
    "        self.eye_color = eye_color\n",
    "    \n",
    "    # Method overriding\n",
    "    def show_info(self):\n",
    "        print(\"Last Name -- \"+ self.last_name)\n",
    "        print(\"Eye Color -- \"+ self.eye_color)\n",
    "        print(\"Number of Toys -- \"+str(self.number_of_toys))\n",
    "        \n",
    "\n",
    "# billy_cyrus = Parent1(\"Cyrus\", \"Blue\")\n",
    "# print(billy_cyrus.last_name)\n",
    "# print(billy_cyrus.eye_color)\n",
    "# billy_cyrus.show_info()\n",
    "\n",
    "miley_cyrus = Child1(\"Cyrus\", \"Black\", 5)\n",
    "print(miley_cyrus.last_name)\n",
    "print(miley_cyrus.eye_color)\n",
    "print(miley_cyrus.number_of_toys)\n",
    "miley_cyrus.show_info()"
   ]
  },
  {
   "cell_type": "code",
   "execution_count": null,
   "metadata": {},
   "outputs": [],
   "source": []
  },
  {
   "cell_type": "code",
   "execution_count": null,
   "metadata": {},
   "outputs": [],
   "source": []
  },
  {
   "cell_type": "code",
   "execution_count": null,
   "metadata": {},
   "outputs": [],
   "source": []
  },
  {
   "cell_type": "code",
   "execution_count": null,
   "metadata": {},
   "outputs": [],
   "source": []
  },
  {
   "cell_type": "code",
   "execution_count": null,
   "metadata": {},
   "outputs": [],
   "source": []
  },
  {
   "cell_type": "code",
   "execution_count": null,
   "metadata": {},
   "outputs": [],
   "source": []
  }
 ],
 "metadata": {
  "kernelspec": {
   "display_name": "VSPython",
   "language": "python",
   "name": "python3"
  },
  "language_info": {
   "codemirror_mode": {
    "name": "ipython",
    "version": 3
   },
   "file_extension": ".py",
   "mimetype": "text/x-python",
   "name": "python",
   "nbconvert_exporter": "python",
   "pygments_lexer": "ipython3",
   "version": "3.10.9"
  },
  "orig_nbformat": 4
 },
 "nbformat": 4,
 "nbformat_minor": 2
}
